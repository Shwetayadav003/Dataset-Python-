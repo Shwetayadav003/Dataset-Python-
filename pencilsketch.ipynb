{
  "nbformat": 4,
  "nbformat_minor": 0,
  "metadata": {
    "colab": {
      "provenance": [],
      "authorship_tag": "ABX9TyO2K8ajzrU0415sJSRlXFiB"
    },
    "kernelspec": {
      "name": "python3",
      "display_name": "Python 3"
    },
    "language_info": {
      "name": "python"
    }
  },
  "cells": [
    {
      "cell_type": "code",
      "execution_count": 1,
      "metadata": {
        "id": "kflV60GWxc6v"
      },
      "outputs": [],
      "source": [
        "import cv2"
      ]
    },
    {
      "cell_type": "code",
      "source": [
        "image=cv2.imread('dog.jpg')\n",
        "gray_image=cv2.cvtColor(image,cv2.COLOR_BGR2GRAY)\n",
        "cv2.imwrite('dog_gray.jpg',gray_image)"
      ],
      "metadata": {
        "colab": {
          "base_uri": "https://localhost:8080/"
        },
        "id": "ZybTgrP9xpPs",
        "outputId": "c48436b7-01aa-447a-c3f9-c13b20f314c4"
      },
      "execution_count": 4,
      "outputs": [
        {
          "output_type": "execute_result",
          "data": {
            "text/plain": [
              "True"
            ]
          },
          "metadata": {},
          "execution_count": 4
        }
      ]
    },
    {
      "cell_type": "code",
      "source": [
        "inverted=255-gray_image\n",
        "blurred=cv2.GaussianBlur(inverted,(21,21),0)\n",
        "cv2.imwrite('dog_blur.jpg',blurred)"
      ],
      "metadata": {
        "colab": {
          "base_uri": "https://localhost:8080/"
        },
        "id": "j-X1aJeJy-0f",
        "outputId": "e388057f-86c6-454b-bda4-bfa5866fa41c"
      },
      "execution_count": 5,
      "outputs": [
        {
          "output_type": "execute_result",
          "data": {
            "text/plain": [
              "True"
            ]
          },
          "metadata": {},
          "execution_count": 5
        }
      ]
    },
    {
      "cell_type": "code",
      "source": [
        "invertedblur=255-blurred\n",
        "pencilsketch=cv2.divide(gray_image,invertedblur,scale=256.0)\n",
        "cv2.imwrite('dog1.jpg',pencilsketch)"
      ],
      "metadata": {
        "colab": {
          "base_uri": "https://localhost:8080/"
        },
        "id": "J1HEeotszV2U",
        "outputId": "72e8683a-9553-4032-ae32-c871d4881814"
      },
      "execution_count": 8,
      "outputs": [
        {
          "output_type": "execute_result",
          "data": {
            "text/plain": [
              "True"
            ]
          },
          "metadata": {},
          "execution_count": 8
        }
      ]
    },
    {
      "cell_type": "code",
      "source": [],
      "metadata": {
        "id": "KgEKjAtL0Qyo"
      },
      "execution_count": null,
      "outputs": []
    }
  ]
}